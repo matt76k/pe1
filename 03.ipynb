{
  "nbformat": 4,
  "nbformat_minor": 0,
  "metadata": {
    "colab": {
      "name": "演習3",
      "provenance": [],
      "toc_visible": true
    },
    "kernelspec": {
      "name": "python3",
      "display_name": "Python 3"
    },
    "language_info": {
      "name": "python"
    }
  },
  "cells": [
    {
      "cell_type": "markdown",
      "metadata": {
        "id": "SA1pwQEtJw8z"
      },
      "source": [
        "# 再帰関数・オブジェクト指向\n",
        "\n",
        "本日学ぶプログラミングの項目は\n",
        "\n",
        "- 再帰関数\n",
        "- オブジェクト指向\n",
        "\n",
        "の2つになります。\n",
        "\n",
        "再帰関数は関数の定義の中で自分自身を呼び出すような関数です。\n",
        "\n",
        "再帰関数を使いこなせるようになるには時間がかかりますが、コードがより単純になるなどの利点があります。\n",
        "\n",
        "Pythonはオブジェクト指向言語です。\n",
        "\n",
        "オブジェクト指向という考え方を身につけることで、保守しやすいコードになるなどの利点があります。"
      ]
    },
    {
      "cell_type": "markdown",
      "metadata": {
        "id": "v-AyNzId-jCS"
      },
      "source": [
        "## 再帰関数\n",
        "\n",
        "まずは、関数の復習からやりましょう。c関数はb関数を、b関数はc関数を呼び出すようにしてみます。"
      ]
    },
    {
      "cell_type": "code",
      "metadata": {
        "id": "DLk2UF31-swN"
      },
      "source": [
        "def a():\n",
        "  print('a')\n",
        "\n",
        "def b():\n",
        "  print('b')\n",
        "  a()\n",
        "\n",
        "def c():\n",
        "  print('c')\n",
        "  b()\n",
        "\n",
        "c()"
      ],
      "execution_count": null,
      "outputs": []
    },
    {
      "cell_type": "markdown",
      "metadata": {
        "id": "QmXcX3Ea-_Mv"
      },
      "source": [
        "cはprintしてbを呼び、bはprintしてaを呼び、aはprintしてbに戻り、そしてcに戻っているという流れを意識してください。\n",
        "\n",
        "ここでもし、aがprintした後、cを呼び出したとしたら、どうなるでしょうか？"
      ]
    },
    {
      "cell_type": "code",
      "metadata": {
        "id": "ccssfvynAPqk"
      },
      "source": [
        "def a():\n",
        "  print('a')\n",
        "  c()\n",
        "\n",
        "c()"
      ],
      "execution_count": null,
      "outputs": []
    },
    {
      "cell_type": "markdown",
      "metadata": {
        "id": "daY1mb6oAbZs"
      },
      "source": [
        "上のプログラムを実行するとabcを繰り返しながら、最終的にはエラーで終了となります。\n",
        "\n",
        "このように、a->b->c->a->b->c->・・・という呼び出しが繰り返されます。本来なら無限に続けることができるのですが、システムは有限であり、途中で終わります。\n",
        "\n",
        "このa->b->cという呼び出しを縮めて、a->a->a->・・・としたのが再帰関数と呼ばれるものです。\n"
      ]
    },
    {
      "cell_type": "code",
      "metadata": {
        "id": "IVG_-sHeBW5Y"
      },
      "source": [
        "def a():\n",
        "  print('a')\n",
        "  a()\n",
        "\n",
        "a()"
      ],
      "execution_count": null,
      "outputs": []
    },
    {
      "cell_type": "markdown",
      "metadata": {
        "id": "OiW9whXyBfr8"
      },
      "source": [
        "上のプログラムもaaa・・・と表示して、エラーで終わります。\n"
      ]
    },
    {
      "cell_type": "markdown",
      "metadata": {
        "id": "qIHBe7mXCrVn"
      },
      "source": [
        "では、再帰関数を使って、`a`を`n`回表示するプログラムを書いてみましょう。"
      ]
    },
    {
      "cell_type": "code",
      "metadata": {
        "id": "3CMeSVPaDfFw"
      },
      "source": [
        "def a(n):\n",
        "  if n  == 0:\n",
        "    return\n",
        "  else:\n",
        "    print('a')\n",
        "    a(n - 1)\n",
        "\n",
        "a(3)"
      ],
      "execution_count": null,
      "outputs": []
    },
    {
      "cell_type": "markdown",
      "metadata": {
        "id": "n0IMTXDXD4_4"
      },
      "source": [
        "上のプログラムを実行すると3回`a`が表示されたと思います。\n",
        "\n",
        "無限に表示する再帰関数との違いは、**引数を取り、ある条件のときにreturnする**ところです。\n",
        "\n",
        "これがあることで、無限の呼び出しにならず、途中で関数呼び出しが終わります。\n",
        "\n",
        "再帰関数は\n",
        "\n",
        "- 呼び出しが終わる条件\n",
        "- 関数を呼び出す条件\n",
        "\n",
        "の2つの部分で構成することが多いです。\n",
        "\n",
        "今回の例だと、\n",
        "\n",
        "- 呼び出しが終わる条件 -> n が 0\n",
        "- 関数呼び出す条件　-> nが0以外\n",
        "\n",
        "です。\n",
        "ただし、関数を呼び出すときは、引数をそのまま渡すのではなく、加工して（今回は1引く）渡します。\n",
        "そうしないと、無限の呼び出しと同じになります。"
      ]
    },
    {
      "cell_type": "markdown",
      "metadata": {
        "id": "dZCvUG2aF4ne"
      },
      "source": [
        "再帰関数の例でよくある、1+2+⋯+nを計算する関数を作ってみましょう。"
      ]
    },
    {
      "cell_type": "code",
      "metadata": {
        "id": "4tcpRVrGF-yJ"
      },
      "source": [
        "def fun(n):\n",
        "  if n == 0:\n",
        "    return 0\n",
        "  else:\n",
        "    return n + fun(n - 1)\n",
        "\n",
        "fun(5)"
      ],
      "execution_count": null,
      "outputs": []
    },
    {
      "cell_type": "markdown",
      "metadata": {
        "id": "5N3FaJ0fGf0J"
      },
      "source": [
        "fun(5)が呼ばれるとnは0でないので、5 + fun(4)となります。\n",
        "\n",
        "fun(4)がよばれるので、5 + 4 + fun(3)となり、最終的に5 + 4 + 3 + 2 + 1 + 0となって、15という結果が得られるわけです。\n",
        "\n",
        "whileやforでも同じことができますが、再帰関数で書いたほうがスッキリかける処理があります。"
      ]
    },
    {
      "cell_type": "markdown",
      "metadata": {
        "id": "UjuDDIrEHwIc"
      },
      "source": [
        "**問題**\n",
        "\n",
        "フィボナッチ数列を再帰関数とwhileで書いてみましょう。\n"
      ]
    },
    {
      "cell_type": "markdown",
      "metadata": {
        "id": "FBe0bEnnVoE5"
      },
      "source": [
        "## オブジェクト指向プログラミング\n",
        "\n",
        "オブジェクト指向プログラミングでは**オブジェクト**を中心としてプログラミングを行います。\n",
        "オブジェクトとは、データとそれらを操作する関数をまとめて1つにしたものです。\n",
        "\n",
        "オブジェクト指向の定義は様々ありますが、ここではPythonで提供されている機能\n",
        "\n",
        "- クラス\n",
        "- 継承\n",
        "- カプセル化\n",
        "\n",
        "を用いて、オブジェクト指向っぽさを学んでもらいます。\n",
        "\n",
        "### クラス\n",
        "\n",
        "**オブジェクト指向プログラミング (object-oriented programming)**で使われる用語\n",
        "\n",
        "- **クラス (class)**\n",
        "- **インスタンス (instance)**\n",
        "\n",
        "について説明します。\n",
        "\n",
        "プログラムの中で猫を扱いたいとしましょう。\n",
        "それぞれの猫は同じように歩けるし、同じように鳴けます。\n",
        "猫に共通した部分のコードがクラスとなります。\n",
        "\n",
        "クラスは設計図のようなもので、それだけでは動く**実体**とはなりません。\n",
        "そのため、クラスから実体を作る必要があります。\n",
        "クラスから作成された実体のことを**インスタンス (instance)** または**オブジェクト (object)**といいます。\n",
        "また、**クラスから実体をつくる**ことを**インスタンス化 (instantiation)** といいます。"
      ]
    },
    {
      "cell_type": "markdown",
      "metadata": {
        "id": "XaIVSvTTIhOD"
      },
      "source": [
        "### クラスの定義\n",
        "\n",
        "猫の設計図を表す `Cat` というクラスを定義してみます。\n",
        "猫の動作として鳴くメソッド`mew`を定義します。\n",
        "オブジェクトから呼ばれる関数のことをメソッドといいます。"
      ]
    },
    {
      "cell_type": "code",
      "metadata": {
        "id": "Wo2bg3S6Ik-j"
      },
      "source": [
        "# クラスの定義\n",
        "class Cat:\n",
        "  def mew(self):\n",
        "    print(\"にゃー\")\n",
        "\n",
        "#インスタンス化\n",
        "tama = Cat()\n",
        "\n",
        "#メソッド呼び出し\n",
        "tama.mew()"
      ],
      "execution_count": null,
      "outputs": []
    },
    {
      "cell_type": "markdown",
      "metadata": {
        "id": "voDFpfX8IqU6"
      },
      "source": [
        "メソッドの最初の引数は、`self`になります。今回のように引数を必要としないメソッドでも必ずselfが引数として必要になります。\n",
        "`self` というのは、作成されたインスタンス自身を参照するために用いられます。\n",
        "\n",
        "メソッドは、インスタンスから呼び出されるとき自動的に第一引数にそのインスタンスへの参照を渡します。\n",
        "そのため、メソッドの第一引数は `self` となり、渡されてくる自分自身への参照を受け取るようになっています。\n",
        "ただし、呼び出す際には**そのインスタンスを引数に指定する必要はありません。**\n",
        "\n",
        "mewに鳴く回数を引数として渡せるようにしてみましょう。"
      ]
    },
    {
      "cell_type": "code",
      "metadata": {
        "id": "JKjtCUMjI8nX"
      },
      "source": [
        ""
      ],
      "execution_count": null,
      "outputs": []
    },
    {
      "cell_type": "code",
      "metadata": {
        "id": "rmZSdUMuS5dg"
      },
      "source": [
        "class Cat:\n",
        "  def mew(self, n):\n",
        "    print(\"にゃー\"*n)\n",
        "\n",
        "#インスタンス化\n",
        "tama = Cat()\n",
        "\n",
        "#メソッド呼び出し\n",
        "tama.mew(3)"
      ],
      "execution_count": null,
      "outputs": []
    },
    {
      "cell_type": "markdown",
      "metadata": {
        "id": "nPx3fKNdTpR0"
      },
      "source": [
        "例のコードでは、猫共通の動作であるmewを定義しましたが、それぞれの猫が保つ属性（例えば名前など）がありません。\n",
        "\n",
        "猫が名前を持てるようにします。"
      ]
    },
    {
      "cell_type": "code",
      "metadata": {
        "id": "zZ6qNzkgJLgo"
      },
      "source": [
        "class Cat:\n",
        "  def __init__(self, name):\n",
        "    self.name = name\n",
        "\n",
        "  def mew(self, n):\n",
        "    print(\"にゃー\"*n)\n",
        "\n",
        "#インスタンス化\n",
        "my_cat = Cat('タマ')\n",
        "tibi = Cat('チビ')\n",
        "\n",
        "print(my_cat.name)\n",
        "print(tibi.name)"
      ],
      "execution_count": null,
      "outputs": []
    },
    {
      "cell_type": "markdown",
      "metadata": {
        "id": "9xHHa6rwv9dx"
      },
      "source": [
        "`Cat` というクラスの `__init__()` メソッドに、`'タマ'` という文字列を渡しています。\n",
        "`my_cat` が、`Cat`クラスから作成されたインスタンスです。\n",
        "\n",
        "`__init__()` メソッドは特別なメソッドで、クラスがインスタンス化されるときに必ず呼ばれます。\n",
        "\n",
        "`self.name`はそのクラスの属性で、どのメソッドからも参照できます。"
      ]
    },
    {
      "cell_type": "code",
      "metadata": {
        "id": "k2Zcvs1xv9dx"
      },
      "source": [
        "class Cat:\n",
        "  def __init__(self, name):\n",
        "    self.name = name\n",
        "\n",
        "  def mew(self, n):\n",
        "    print(self.name + \"にゃー\"*n)\n",
        "\n",
        "#インスタンス化\n",
        "my_cat = Cat('タマ')\n",
        "tibi = Cat('チビ')\n",
        "\n",
        "#メソッド呼び出し\n",
        "my_cat.mew(3)\n",
        "tibi.mew(5)"
      ],
      "execution_count": null,
      "outputs": []
    },
    {
      "cell_type": "markdown",
      "metadata": {
        "id": "0M1dmJSacA7g"
      },
      "source": [
        "### 継承\n",
        "\n",
        "**継承 (inheritance)**を使うと、あるクラスの一部の機能を変更したり、新しい機能を付け足したりできるようになります。\n",
        "\n",
        "例として，`Link` というクラスを定義し、そのクラスを継承した `Chain` という新しいクラスを作ってみましょう。\n",
        "\n",
        "`Link` クラスを定義します．"
      ]
    },
    {
      "cell_type": "code",
      "metadata": {
        "id": "wn9XJxjpv9d0"
      },
      "source": [
        "class Link:\n",
        "    def __init__(self):\n",
        "        self.a = 1\n",
        "        self.b = 2"
      ],
      "execution_count": null,
      "outputs": []
    },
    {
      "cell_type": "markdown",
      "metadata": {
        "id": "Qn0fSwvyv9d1"
      },
      "source": [
        "`Link` というクラスは、インスタンス化を行う際に引数をとりませんが、\n",
        "属性として `a` と `b` の 2つの変数を保持し、それぞれには `__init__()` メソッドで 1 と 2 という値が代入されます。\n",
        "\n",
        "このクラスをインスタンス化して動きを確認してみましょう。"
      ]
    },
    {
      "cell_type": "code",
      "metadata": {
        "id": "BsfYK88qv9d1"
      },
      "source": [
        "l = Link()\n",
        "\n",
        "l.a"
      ],
      "execution_count": null,
      "outputs": []
    },
    {
      "cell_type": "code",
      "metadata": {
        "id": "-qpAEM_aJ2bz"
      },
      "source": [
        "l.b"
      ],
      "execution_count": null,
      "outputs": []
    },
    {
      "cell_type": "markdown",
      "metadata": {
        "id": "DxipToKmv9d2"
      },
      "source": [
        "`l` という `Link` クラスのインスタンスが持つ2つの属性を表示しています。\n",
        "\n",
        "次に、このクラスを**継承**する`Chain`クラスを定義します。\n",
        "継承を行う場合は、クラス定義の際にクラス名に続けて `()` を書き、\n",
        "その中に継承したいクラスの名前を書きます。\n",
        "`()` の中に書かれたクラスは、定義されるクラスの**親クラス**といいます。\n",
        "それに対し、`()` の中に書かれたクラスからすると、定義されるクラスは**子クラス**となります。"
      ]
    },
    {
      "cell_type": "code",
      "metadata": {
        "id": "A4eTa6jZv9d3"
      },
      "source": [
        "class Chain(Link):\n",
        "    def sum(self):\n",
        "        return self.a + self.b"
      ],
      "execution_count": null,
      "outputs": []
    },
    {
      "cell_type": "markdown",
      "metadata": {
        "id": "dhxR4J0mv9d3"
      },
      "source": [
        "`Chain`クラスは `__init__()` メソッドの定義がありません。\n",
        "`__init__()` メソッドが定義されていない場合は、親クラスの `__init__()`  メソッドが自動的に呼び出されます。\n",
        "そのため、`Chain` クラスでは一見何も属性を定義していないように見えますが、\n",
        "インスタンス化を行うと親クラスである `Link` の `__init__()`  メソッドが自動的に実行され、\n",
        "`a`、`b` という属性が定義されます。\n",
        "\n",
        "以下のコードで確認してみましょう。"
      ]
    },
    {
      "cell_type": "code",
      "metadata": {
        "id": "ipmqPwsKv9d3"
      },
      "source": [
        "# Chain クラスをインスタンス化\n",
        "c = Chain()\n",
        "\n",
        "c.a"
      ],
      "execution_count": null,
      "outputs": []
    },
    {
      "cell_type": "code",
      "metadata": {
        "id": "lWL0VTMOv9d4"
      },
      "source": [
        "c.b"
      ],
      "execution_count": null,
      "outputs": []
    },
    {
      "cell_type": "markdown",
      "metadata": {
        "id": "nVjBNK1Cv9d4"
      },
      "source": [
        "`Chain`クラスの `sum()` メソッドでは、親クラスの `__init__()`  メソッドで定義されている 2つの属性を足し合わせて返します。\n",
        "作成したインスタンスから、この `sum()` メソッドを呼び出してみましょう。"
      ]
    },
    {
      "cell_type": "code",
      "metadata": {
        "id": "pEf10A44v9d5"
      },
      "source": [
        "# sum メソッドを実行\n",
        "c.sum()"
      ],
      "execution_count": null,
      "outputs": []
    },
    {
      "cell_type": "markdown",
      "metadata": {
        "id": "QI1v_Ib0v9d5"
      },
      "source": [
        "このように、**親クラスを継承し，新しい機能が追加された新しいクラスを定義できるようになります。**\n",
        "\n",
        "この `Chain` というクラスにも `__init__()`  メソッドを定義し、\n",
        "新しい属性 `c` を定義しましょう。\n",
        "`sum()` メソッドでは親クラスの `a`、`b` という属性と、新たな `c` という属性の ３つの和を返すように変更します。"
      ]
    },
    {
      "cell_type": "code",
      "metadata": {
        "id": "ds9A6Xfpv9d5"
      },
      "source": [
        "class Chain(Link):\n",
        "    def __init__(self):\n",
        "        self.c = 5  # self.c を新たに追加\n",
        "    \n",
        "    def sum(self):\n",
        "        return self.a + self.b + self.c\n",
        "\n",
        "# インスタンス化\n",
        "C = Chain()"
      ],
      "execution_count": null,
      "outputs": []
    },
    {
      "cell_type": "code",
      "metadata": {
        "id": "_2_7avSHv9d6"
      },
      "source": [
        "# error\n",
        "C.sum()"
      ],
      "execution_count": null,
      "outputs": []
    },
    {
      "cell_type": "markdown",
      "metadata": {
        "id": "ZfTe1NMUv9d6"
      },
      "source": [
        "エラーが出ました。\n",
        "\n",
        "**エラーメッセージを読みましょう。**\n",
        "\n",
        "> AttributeError: 'Chain' object has no attribute 'a'\n",
        "\n",
        "`'Chain'` というオブジェクトは、`'a'` という名前の属性を持っていない、と書いてあります。\n",
        "`a` という属性は、`Chain` の親クラスである `Link` の `__init__()`  メソッドで定義されています。\n",
        "そのため、`Chain` クラスをインスタンス化する際に、\n",
        "親クラスである `Link` の `__init__()`  メソッドが呼ばれているのであれば、\n",
        "このエラーは起こらないはずです。\n",
        "\n",
        "`Chain` クラスにも `__init__()` メソッドを定義したため、\n",
        "親クラスである `Link` の `__init__()`  メソッドが上書きされてしまい、\n",
        "実行されなかったことがエラーの原因です。\n",
        "\n",
        "親クラスの `__init__()`  メソッドを明示的に呼べば、このエラーは解決できます。\n",
        "それには、`super()` という組み込み関数を用います。\n",
        "この関数を使うと、子クラスから親クラスを参照するできるようになります。"
      ]
    },
    {
      "cell_type": "code",
      "metadata": {
        "id": "_NcT6aN7v9d6"
      },
      "source": [
        "class Chain(Link):\n",
        "    def __init__(self):\n",
        "        # 親クラスの `__init__()` メソッドを呼び出す\n",
        "        super().__init__()\n",
        "        \n",
        "        # self.c を新たに追加\n",
        "        self.c = 5\n",
        "    \n",
        "    def sum(self):\n",
        "        return self.a + self.b + self.c\n",
        "\n",
        "# インスタンス化\n",
        "c = Chain()"
      ],
      "execution_count": null,
      "outputs": []
    },
    {
      "cell_type": "code",
      "metadata": {
        "id": "FW__tTtGv9d7"
      },
      "source": [
        "c.sum()"
      ],
      "execution_count": null,
      "outputs": []
    },
    {
      "cell_type": "markdown",
      "metadata": {
        "id": "HcDciFKRv9d7"
      },
      "source": [
        "今回は実行できました．\n",
        "`Link` クラスの `__init__()`  メソッドの最初で，親クラスの `__init__()`  メソッドを実行し，\n",
        "`a`、`b` という属性を定義しているため，エラーは起きなくなっています．\n",
        "\n",
        "あるクラスを継承して作られたクラスを，さらに継承して別のクラスを定義できます．"
      ]
    },
    {
      "cell_type": "code",
      "metadata": {
        "id": "RmL3FvD-v9d7"
      },
      "source": [
        "class MyNetwork(Chain):\n",
        "    \n",
        "    def mul(self):\n",
        "        return self.a * self.b * self.c"
      ],
      "execution_count": null,
      "outputs": []
    },
    {
      "cell_type": "markdown",
      "metadata": {
        "id": "21eb0EOKv9d8"
      },
      "source": [
        "`MyNetwork` クラスは、`Link` クラスを継承した `Chain` クラスをさらに継承したクラスで，\n",
        "`a`，`b`，`c` という ３ つの属性を掛け合わせた結果を返す `mul()` というメソッドを持ちます．\n",
        "\n",
        "このクラスのインスタンスを作成し、`mul()` を実行してみましょう．"
      ]
    },
    {
      "cell_type": "code",
      "metadata": {
        "id": "Cq4lJIm3v9d8"
      },
      "source": [
        "net = MyNetwork()\n",
        "\n",
        "net.mul()"
      ],
      "execution_count": null,
      "outputs": []
    },
    {
      "cell_type": "markdown",
      "metadata": {
        "id": "wmr-7rbYxiO6"
      },
      "source": [
        "### カプセル化\n",
        "\n",
        "カプセル化とは，操作とその操作に関連するデータをまとめることをいいます．\n",
        "\n",
        "Personという人間を表すクラスをつかって考えてみましょう．"
      ]
    },
    {
      "cell_type": "code",
      "metadata": {
        "id": "Z5WKIEcIzo3x"
      },
      "source": [
        "class Person:\n",
        "  def __init__(self, name, hight, weight):\n",
        "    self.name = name\n",
        "    self.hight = hight\n",
        "    self.weight = weight\n",
        "  \n",
        "  def check(self):\n",
        "    print(f\"{self.name} - {self.hight}cm {self.weight}kg\")\n",
        "\n",
        "k = Person('Tanjiro', 165, 61)\n",
        "\n",
        "k.check()"
      ],
      "execution_count": null,
      "outputs": []
    },
    {
      "cell_type": "markdown",
      "metadata": {
        "id": "ys4h6nVu0prq"
      },
      "source": [
        "このクラスにBMIを計算するメソッドを追加してみます．"
      ]
    },
    {
      "cell_type": "code",
      "metadata": {
        "id": "_aD3aD_I0ohA"
      },
      "source": [
        "class Person:\n",
        "  def __init__(self, name, hight, weight):\n",
        "    self.name = name\n",
        "    self.hight = hight\n",
        "    self.weight = weight\n",
        "  \n",
        "  def check(self):\n",
        "    print(f\"{self.name} - {self.hight}cm {self.weight}kg\")\n",
        "  \n",
        "  def bmi(self):\n",
        "    return self.weight / (self.hight / 100.) ** 2\n",
        "\n",
        "k = Person('Tanjiro', 165, 61)\n",
        "\n",
        "k.bmi()"
      ],
      "execution_count": null,
      "outputs": []
    },
    {
      "cell_type": "markdown",
      "metadata": {
        "id": "Kb_v5f4F1RHo"
      },
      "source": [
        "このように，関連するデータ（クラスの属性）を使うメソッドをまとめたものがクラスになっていると考えても良いでしょう．\n",
        "\n",
        "データの属性やメソッドへのアクセスをさせたくない場合は，`_`を属性の名前やメソッドの名前の前に２つ付けます．"
      ]
    },
    {
      "cell_type": "code",
      "metadata": {
        "id": "KTIAXORq3gDS"
      },
      "source": [
        "class Person:\n",
        "  def __init__(self, name, hight, weight):\n",
        "    self.name = name\n",
        "    self.hight = hight\n",
        "    self.__weight = weight\n",
        "  \n",
        "  def check(self):\n",
        "    print(f\"{self.name} - {self.hight}cm {self.__weight}kg\")\n",
        "  \n",
        "  def __bmi(self):\n",
        "    return self.weight / (self.hight / 100.) ** 2\n",
        "\n",
        "k = Person('Tanjiro', 165, 61)\n",
        "\n",
        "k.check()\n",
        "print(k.weight)\n",
        "print(k.bmi())"
      ],
      "execution_count": null,
      "outputs": []
    },
    {
      "cell_type": "markdown",
      "metadata": {
        "id": "24TNvzvs30N2"
      },
      "source": [
        "'_'が２つ付いた属性やメソッドには，クラス内部のメソッドからしかアクセスすることはできなくなり，外部からは隠蔽できるようになります．"
      ]
    }
  ]
}