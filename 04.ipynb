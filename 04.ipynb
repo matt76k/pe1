{
  "nbformat": 4,
  "nbformat_minor": 0,
  "metadata": {
    "colab": {
      "name": "演習4",
      "provenance": [],
      "toc_visible": true
    },
    "kernelspec": {
      "name": "python3",
      "display_name": "Python 3"
    },
    "language_info": {
      "name": "python"
    }
  },
  "cells": [
    {
      "cell_type": "markdown",
      "source": [
        "# numpy・padnas・matplotlib\n",
        "\n",
        "本日学ぶプログラミングの項目は、データサイエンスでよく使われる\n",
        "\n",
        "- numpy\n",
        "- pandas\n",
        "- matplotlib\n",
        "\n",
        "の３つのライブラリについて、基本部分のみ学びます。\n",
        "\n",
        "さらなる勉強をしたい方は、[Chainer Tutorial](https://tutorials.chainer.org/ja/tutorial.html)のそれぞれのチュートリアルをやるとより理解が深まるでしょう。"
      ],
      "metadata": {
        "id": "SuyTKmrDZ7tH"
      }
    },
    {
      "cell_type": "markdown",
      "source": [
        "## numpy\n",
        "\n",
        "numpyは数値計算を行うライブラリで、科学技術計算を行うために必須である行列計算が高速に行えます。\n",
        "\n",
        "使うためには、numpyをインポートする必要があります。"
      ],
      "metadata": {
        "id": "s4gsfpPZcTUr"
      }
    },
    {
      "cell_type": "code",
      "source": [
        "import numpy as np # numpyって毎回書くのが大変なので、npという別名をつけてあげてます。"
      ],
      "metadata": {
        "id": "a8RTsPs8c1VW"
      },
      "execution_count": null,
      "outputs": []
    },
    {
      "cell_type": "markdown",
      "source": [
        "numpyで配列を作ってみます。\n",
        "\n",
        "numpyの配列は、`ndarray`と一般的に呼ばれているため、ここでもそのように呼びます。"
      ],
      "metadata": {
        "id": "IfZXAtZ9dHrN"
      }
    },
    {
      "cell_type": "markdown",
      "source": [
        "配列の作り方は多数あるため、代表的な作り方を以下に挙げます。"
      ],
      "metadata": {
        "id": "aCCiwGe_dnnv"
      }
    },
    {
      "cell_type": "code",
      "source": [
        "# 1次元配列\n",
        "np.array([1,2,3])\n",
        "# 2次元配列\n",
        "np.array([[1,2], [3, 4]])\n",
        "# 配列の中身の値を設定\n",
        "np.array([1,2,3], dtype=float)\n",
        "# 1からはじめて、2ずつ、指定した20という数までの配列\n",
        "np.arange(1, 20, 2)\n",
        "# 要素が1の配列 - タプル形式で配列の形状を与える\n",
        "np.ones((2, 2))\n",
        "# 要素が0の配列 - タプル形式で配列の形状を与える\n",
        "np.zeros((2, 2))\n",
        "# 単位行列の生成\n",
        "np.eye(3)\n",
        "# ランダムな要素が入った配列\n",
        "np.random.rand(3, 3)"
      ],
      "metadata": {
        "id": "d2A9ygG-dcC8"
      },
      "execution_count": null,
      "outputs": []
    },
    {
      "cell_type": "markdown",
      "source": [
        "1次元配列の演算を以下に挙げます。"
      ],
      "metadata": {
        "id": "RysV0PuXfe4G"
      }
    },
    {
      "cell_type": "code",
      "source": [
        "v1 = np.array([1, 2, 3])\n",
        "v2 = np.array([4, 5, 6])\n",
        "\n",
        "print(\"要素同士の足し算:\", v1 + v2)\n",
        "print(\"要素同士の引き算:\", v1 - v2)\n",
        "print(\"要素同士の掛け算:\" ,v1 * v2)\n",
        "print(\"要素同士の割り算:\", v1 / v2)\n",
        "\n",
        "print(\"数値との足し算:\", v1 + 2)\n",
        "print(\"数値との引き算:\", v1 - 2)\n",
        "print(\"数値との掛け算:\", v1 * 2)\n",
        "print(\"数値との割り算:\", v1 / 2)\n",
        "\n",
        "print(\"ベクトルの内積:\", np.dot(v1, v2))\n"
      ],
      "metadata": {
        "id": "WYEd9o2KfnEn"
      },
      "execution_count": null,
      "outputs": []
    },
    {
      "cell_type": "markdown",
      "source": [
        "多次元でも同様の演算があるので、試してみましょう。\n"
      ],
      "metadata": {
        "id": "pP3V6btVgT4F"
      }
    },
    {
      "cell_type": "code",
      "source": [
        "v1 = np.array([[1,2], [3, 4]])\n",
        "v2 = np.array([[5,6], [7, 8]])\n",
        "\n",
        "print(\"要素同士の足し算:\", v1 + v2)\n",
        "print(\"要素同士の引き算:\", v1 - v2)\n",
        "print(\"要素同士の掛け算:\" ,v1 * v2)\n",
        "print(\"要素同士の割り算:\", v1 / v2)\n",
        "\n",
        "print(\"数値との足し算:\", v1 + 2)\n",
        "print(\"数値との引き算:\", v1 - 2)\n",
        "print(\"数値との掛け算:\", v1 * 2)\n",
        "print(\"数値との割り算:\", v1 / 2)\n",
        "\n",
        "print(\"ベクトルの内積:\", np.dot(v1, v2))"
      ],
      "metadata": {
        "id": "Dcf2cgY5gaDF"
      },
      "execution_count": null,
      "outputs": []
    },
    {
      "cell_type": "markdown",
      "source": [
        "配列から要素を抽出する方法を試してみましょう。"
      ],
      "metadata": {
        "id": "w975SG26g1Ku"
      }
    },
    {
      "cell_type": "code",
      "source": [
        "v1 = np.array([1, 2, 3])\n",
        "v2 = np.array([[1, 2], [3, 4]])\n",
        "# 1番目の要素を取り出す\n",
        "print(v1[0])\n",
        "# 多次元の場合に注意\n",
        "print(v2[0])\n",
        "\n"
      ],
      "metadata": {
        "id": "fj1AJOpNg_9a"
      },
      "execution_count": null,
      "outputs": []
    },
    {
      "cell_type": "markdown",
      "source": [
        "範囲を指定して要素を抽出する方法をスライシングといい、`:`を使います。"
      ],
      "metadata": {
        "id": "AhyZAgAahbVk"
      }
    },
    {
      "cell_type": "code",
      "source": [
        "# 1次元配列のインデキシング\n",
        "v1 = np.arange(5)\n",
        "\n",
        "# インデックスが1以上3未満の要素\n",
        "print(v1[1:3])\n",
        "# インデックスが3未満の要素\n",
        "print(v1[:3])\n",
        "# インデックスが1以上の要素\n",
        "print(v1[1:])"
      ],
      "metadata": {
        "id": "eQDOqyV-hn1D"
      },
      "execution_count": null,
      "outputs": []
    },
    {
      "cell_type": "code",
      "source": [
        "# 二次元配列のインデキシング\n",
        "\n",
        "# 一度0-9の１次元の配列を作っておいて、3x3の配列に形を変える\n",
        "v1 = np.arange(9).reshape(3, 3)\n",
        "print(v1)\n",
        "\n",
        "# 1行目, 2行目を取り出す\n",
        "print(v1[:2])\n",
        "# 1列目を取り出す\n",
        "print(v1[:, 0])\n",
        "# 1行目と2行目の2列目を取り出す\n",
        "print(v1[:2, 1])"
      ],
      "metadata": {
        "id": "qvPj035hiUvf"
      },
      "execution_count": null,
      "outputs": []
    },
    {
      "cell_type": "markdown",
      "source": [
        "numpyでよく使うメソッドを試してみましょう。"
      ],
      "metadata": {
        "id": "XQl7FQeMjd-D"
      }
    },
    {
      "cell_type": "code",
      "source": [
        "v1 = np.arange(9).reshape(3, 3)\n",
        "\n",
        "# 配列の形状を確認\n",
        "v1.shape\n",
        "\n",
        "# 配列の形状を変更\n",
        "# -1を入れると自動的に決定してくれる。ただし、エラーになるときもある\n",
        "v2 = v1.reshape(1, -1)\n",
        "v2.shape\n",
        "\n",
        "# 要素のデータ型を確認\n",
        "\n",
        "v2.dtype\n",
        "\n",
        "# 条件(5未満)にあった要素のみ抽出\n",
        "v1[v1 < 5]\n",
        "\n",
        "# 要素がある条件を満たす（偶数のみ）要素を残す場合\n",
        "np.where(v1 % 2 == 0, v1, 0)\n",
        "\n",
        "# すべての要素に関数を適応\n",
        "np.vectorize(lambda x: x + 1)(v1)"
      ],
      "metadata": {
        "id": "0irHkwVxjlCf"
      },
      "execution_count": null,
      "outputs": []
    },
    {
      "cell_type": "markdown",
      "source": [
        "### 連立1次方程式を解く\n",
        "\n",
        "ここでは、numpyを使って連立方程式を解く方法について説明します。\n",
        "\n",
        "$\\begin{pmatrix}\n",
        "  a_{1,1} & a_{1,2} & \\cdots & a_{1,n} \\\\\n",
        "  a_{2,1} & a_{2,2} & \\cdots & a_{2,n} \\\\\n",
        "  \\vdots  & \\vdots  & \\ddots & \\vdots  \\\\\n",
        "  a_{n,1} & a_{n,2} & \\cdots & a_{n,n}\n",
        "\\end{pmatrix}\\begin{pmatrix}\n",
        "  x_{1}\\\\\n",
        "  x_{2}\\\\\n",
        "  \\vdots\\\\\n",
        "  x_{n}\n",
        " \\end{pmatrix}=\\begin{pmatrix}\n",
        "  b_{1}\\\\\n",
        "  b_{2}\\\\\n",
        "  \\vdots\\\\\n",
        "  b_{n}\n",
        " \\end{pmatrix}\n",
        " $\n",
        "\n",
        "を解くとき、行列\n",
        "\n",
        "$A=\\begin{pmatrix}\n",
        "  a_{1,1} & a_{1,2} & \\cdots & a_{1,n} \\\\\n",
        "  a_{2,1} & a_{2,2} & \\cdots & a_{2,n} \\\\\n",
        "  \\vdots  & \\vdots  & \\ddots & \\vdots  \\\\\n",
        "  a_{n,1} & a_{n,2} & \\cdots & a_{n,n}\n",
        "\\end{pmatrix} $\n",
        "\n",
        "の逆行列$A^{-1}$を使って、\n",
        "\n",
        "$\\begin{pmatrix}\n",
        "  x_{1}\\\\\n",
        "  x_{2}\\\\\n",
        "  \\vdots\\\\\n",
        "  x_{n}\n",
        " \\end{pmatrix}=A^{-1}\\begin{pmatrix}\n",
        "  b_{1}\\\\\n",
        "  b_{2}\\\\\n",
        "  \\vdots\\\\\n",
        "  b_{n}\n",
        " \\end{pmatrix}$\n",
        "\n",
        " とやれば求まります。\n",
        "\n",
        "例えば、以下の連立方程式、\n",
        "\n",
        "$\n",
        "\\begin{align}\n",
        "x+y+z=9\\\\\n",
        "2x+3y-2z=5 \\\\\n",
        "3x-y+z = 7\n",
        "\\end{align}\n",
        "$\n",
        "\n",
        "をnumpyで解いてみましょう。\n",
        "\n",
        " numpyで逆行列を求めるには、`np.linalg.inv`を使います。\n"
      ],
      "metadata": {
        "id": "wu5LfGl_yQy0"
      }
    },
    {
      "cell_type": "code",
      "source": [
        "import numpy as np\n",
        "\n",
        "# 値の準備\n",
        "A = np.array([\n",
        "  [1, 1, 1],\n",
        "  [2, 3, -2],\n",
        "  [3, -1, 1]              \n",
        "])\n",
        "\n",
        "b = np.array([9, 5, 7])\n",
        "\n",
        "# Aの逆行列とbの内積\n",
        "np.dot(np.linalg.inv(A), b) "
      ],
      "metadata": {
        "id": "AXchiAQ82mk-"
      },
      "execution_count": null,
      "outputs": []
    },
    {
      "cell_type": "code",
      "source": [
        "# 別の求め方もある\n",
        "np.linalg.solve(A, b)"
      ],
      "metadata": {
        "id": "guwRqGQ83T8D"
      },
      "execution_count": null,
      "outputs": []
    },
    {
      "cell_type": "markdown",
      "source": [
        "ここでは紹介しきれなかったメソッドが多数あります。\n",
        "\n",
        "自分でプログラムを書いていて必要になったときに調べると良いでしょう。"
      ],
      "metadata": {
        "id": "fF3RFfwroKRs"
      }
    },
    {
      "cell_type": "markdown",
      "source": [
        "## pandas\n",
        "\n",
        "pandasは表形式のデータを処理するライブラリで、CSVで保存されたデータを処理できます。\n",
        "\n",
        "使うためには、pandasをインポートします。"
      ],
      "metadata": {
        "id": "1-STKnawpIq1"
      }
    },
    {
      "cell_type": "code",
      "source": [
        "import pandas as pd # pdと略されます"
      ],
      "metadata": {
        "id": "URpdOlKeCnmS"
      },
      "execution_count": null,
      "outputs": []
    },
    {
      "cell_type": "code",
      "source": [
        "# ナイル川の流量データを保存\n",
        "!wget https://raw.githubusercontent.com/vincentarelbundock/Rdatasets/master/csv/datasets/Nile.csv"
      ],
      "metadata": {
        "id": "3qbAFC-IDnGw"
      },
      "execution_count": null,
      "outputs": []
    },
    {
      "cell_type": "code",
      "source": [
        "# csvファイルを読み込む\n",
        "# dfはdata frameという意味\n",
        "df =  pd.read_csv('Nile.csv')\n",
        "\n",
        "# 最初の10個を表示\n",
        "df.head(10)"
      ],
      "metadata": {
        "id": "-R65jY43EjZi"
      },
      "execution_count": null,
      "outputs": []
    },
    {
      "cell_type": "markdown",
      "source": [
        "pandasでよく使うメソッドを確認してみます。"
      ],
      "metadata": {
        "id": "VAmRvXZmFvaO"
      }
    },
    {
      "cell_type": "code",
      "source": [
        "# データフレームの形状を確認\n",
        "df.shape\n",
        "\n",
        "# ある列だけ抽出\n",
        "\n",
        "df['time']\n",
        "\n",
        "# 列の平均値\n",
        "\n",
        "df['value'].mean()\n",
        "\n",
        "# 最初の列は不要なので、必要なtimeとvalueだけ抜き出す\n",
        "\n",
        "df[['time', 'value']]\n",
        "\n",
        "# 簡単に値をプロットする\n",
        "\n",
        "df['value'].plot()"
      ],
      "metadata": {
        "id": "wm3KzS8vGRC7"
      },
      "execution_count": null,
      "outputs": []
    },
    {
      "cell_type": "markdown",
      "source": [
        "pandasも機能が多数あるため、必要になったときにメソッドを検索して使うと良いでしょう。"
      ],
      "metadata": {
        "id": "gvCrFS51JAKk"
      }
    },
    {
      "cell_type": "markdown",
      "source": [
        "## matplotlib\n",
        "\n",
        "基本的な使い方は、[Chainerのチュートリアル](https://tutorials.chainer.org/ja/12_Introduction_to_Matplotlib.html)が良いので、こちらで。"
      ],
      "metadata": {
        "id": "h9G7KjU2GULW"
      }
    }
  ]
}