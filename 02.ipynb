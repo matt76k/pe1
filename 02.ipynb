{
  "nbformat": 4,
  "nbformat_minor": 0,
  "metadata": {
    "colab": {
      "name": "演習2",
      "provenance": [],
      "collapsed_sections": [],
      "toc_visible": true
    },
    "kernelspec": {
      "name": "python3",
      "display_name": "Python 3"
    },
    "language_info": {
      "name": "python"
    }
  },
  "cells": [
    {
      "cell_type": "markdown",
      "metadata": {
        "id": "q0YF4bx_tUi1"
      },
      "source": [
        "# 関数・データ構造\n",
        "\n",
        "本日学ぶプログラミングの項目は\n",
        "\n",
        "`関数`と`データ構造`\n",
        "\n",
        "の2つになります。\n"
      ]
    },
    {
      "cell_type": "markdown",
      "metadata": {
        "id": "N35WxJDbuWHU"
      },
      "source": [
        "## 関数\n",
        "\n",
        "`関数`は、機能をまとめて使えるようにできます。\n",
        "\n",
        "機能をまとめることで、プログラムが分かりやすくなり、何度も同じコードを書く必要がなくなります。\n",
        "\n",
        "自分の関数を定義するには、\n",
        "\n",
        "- 名前\n",
        "- 引数\n",
        "- 返り値\n",
        "\n",
        "が必要になります。\n",
        "\n",
        "数字が偶数か奇数かを教えてくれる関数を作ってみます。"
      ]
    },
    {
      "cell_type": "code",
      "metadata": {
        "id": "t_MCn3J0y2ey"
      },
      "source": [
        "def is_even(n):\n",
        "  if n % 2 == 0:\n",
        "    return True\n",
        "  return False\n",
        "\n",
        "is_even(3)"
      ],
      "execution_count": null,
      "outputs": []
    },
    {
      "cell_type": "markdown",
      "metadata": {
        "id": "3GFKBHIgzGRY"
      },
      "source": [
        "`def`のあとに関数の名前を書き、カッコで囲まれたところが引数となります。\n",
        "\n",
        "引数はその関数を実行するときに必要となる値です。\n",
        "\n",
        "今回はその数字が偶数か奇数かを教えてくれる関数なので、必要となる値は1つです。\n",
        "コードではnとなってますが、この名前は好きに決めれますので、aでも大丈夫です。\n",
        "\n",
        "関数を呼ぶときに実際の値**3**を入力していますが、この値が関数の引数であるnに代入され、関数の内部が実行されます。\n",
        "\n",
        "関数は`値を返す`ことで、その実行の結果を教えてくれます。\n",
        "値を返す方法は、`return`を使います。\n",
        "`return`をすると、関数の残りの部分があっても、関数の実行は終了します。\n",
        "\n",
        "このプログラムでは、TrueやFalseというデータ型を返すことで、数字が偶数か奇数かを教えてくれています。"
      ]
    },
    {
      "cell_type": "markdown",
      "metadata": {
        "id": "8yttQQrf1jyt"
      },
      "source": [
        "**演習**\n",
        "\n",
        "is_evenの返り値を\"偶数です\"と\"奇数です\"に変えて実行してみましょう。"
      ]
    },
    {
      "cell_type": "markdown",
      "metadata": {
        "id": "ojWQMRYy2Pjf"
      },
      "source": [
        "引数が複数使えることを確認するために、足し算をする関数を定義してみます。"
      ]
    },
    {
      "cell_type": "code",
      "metadata": {
        "id": "r19STfZj2EbE"
      },
      "source": [
        "def add(a, b):\n",
        "  return a + b\n",
        "\n",
        "add(add(1, 2), add(3, 4))"
      ],
      "execution_count": null,
      "outputs": []
    },
    {
      "cell_type": "markdown",
      "metadata": {
        "id": "SGbxkAU92hVt"
      },
      "source": [
        "引数を持たない関数や、返り値を持たない関数を作ることができます。"
      ]
    },
    {
      "cell_type": "code",
      "metadata": {
        "id": "WPVsxicr2eQ7"
      },
      "source": [
        "def none():\n",
        "  print(\"nothing happend\")\n",
        "\n",
        "none()"
      ],
      "execution_count": null,
      "outputs": []
    },
    {
      "cell_type": "markdown",
      "metadata": {
        "id": "_mm-yjpp2zos"
      },
      "source": [
        "関数の中で関数を呼ぶこともできます。"
      ]
    },
    {
      "cell_type": "code",
      "metadata": {
        "id": "zAgREYqv3FWc"
      },
      "source": [
        "def fun0():\n",
        "  print(\"call fun0\")\n",
        "\n",
        "def fun1():\n",
        "  print(\"call fun1\")\n",
        "\n",
        "def fun2():\n",
        "  fun0()\n",
        "  fun1()\n",
        "  print(\"call fun2\")\n",
        "\n",
        "fun2()"
      ],
      "execution_count": null,
      "outputs": []
    },
    {
      "cell_type": "markdown",
      "metadata": {
        "id": "ET7koYr54e-T"
      },
      "source": [
        "関数には名前が必要といいましたが、名前のない関数を作ることができます。\n",
        "\n",
        "無名関数と呼ばれていて、簡単な関数を実行するときや引数として関数を引数とする関数（`高階関数`と呼ばれます）で使われます。"
      ]
    },
    {
      "cell_type": "code",
      "metadata": {
        "id": "syXaJr4y4J9v"
      },
      "source": [
        "(lambda x, y: x + y)(3, 2)"
      ],
      "execution_count": null,
      "outputs": []
    },
    {
      "cell_type": "code",
      "metadata": {
        "id": "SnwFVs7r6oAX"
      },
      "source": [
        "def 関数名(引数):\n",
        "  返り値\n",
        "\n",
        "lambda 引数: 返り値"
      ],
      "execution_count": null,
      "outputs": []
    },
    {
      "cell_type": "markdown",
      "metadata": {
        "id": "up_J4B2c5yMN"
      },
      "source": [
        "普通の関数と無名関数の違いをまとめると以上のようになります。"
      ]
    },
    {
      "cell_type": "markdown",
      "metadata": {
        "id": "Xop_uPLiwqVW"
      },
      "source": [
        "## List\n",
        "\n",
        "ここではListで使える基本的な関数とリストの各要素に関数を適応させる方法について学びます。\n",
        "\n",
        "- map\n",
        "- filter\n",
        "- reduce\n",
        "\n",
        "特に上記の3つは重要で、この3つで大抵のプログラムが書けたりします。\n",
        "\n",
        "これらは高階関数と呼ばれる関数で、関数を引数とする関数です。"
      ]
    },
    {
      "cell_type": "markdown",
      "metadata": {
        "id": "okUuVhmuaCQI"
      },
      "source": [
        "1から10の数字のリストを作りなさいと言われて、どのような方法が思いつきますか？\n",
        "\n",
        "rangeを使ってもいいでしょうし、whileを使っても、空のリストに一つずつ値を入れていくのも良いでしょう。\n",
        "\n",
        "ここでは、Listの内包記法を使って作る方法を教えます。"
      ]
    },
    {
      "cell_type": "code",
      "metadata": {
        "id": "9RQ1Yz62bBjn"
      },
      "source": [
        "[i + 1 for i in range(10)]"
      ],
      "execution_count": null,
      "outputs": []
    },
    {
      "cell_type": "markdown",
      "metadata": {
        "id": "TFVu_ISPbOKZ"
      },
      "source": [
        "forの前にある部分の式が計算されてListになります。"
      ]
    },
    {
      "cell_type": "markdown",
      "metadata": {
        "id": "tAy393nNcRrt"
      },
      "source": [
        "リストの長さを求める関数はlenで、リストの中をすべて足してくれる関数はsumになります。"
      ]
    },
    {
      "cell_type": "code",
      "metadata": {
        "id": "ciQKXCUYcmZg"
      },
      "source": [
        "a = [i + 1 for i in range(10)]\n",
        "len(a)"
      ],
      "execution_count": null,
      "outputs": []
    },
    {
      "cell_type": "code",
      "metadata": {
        "id": "9V2491HccteQ"
      },
      "source": [
        "sum(a)"
      ],
      "execution_count": null,
      "outputs": []
    },
    {
      "cell_type": "markdown",
      "metadata": {
        "id": "J-mN5zIcc57j"
      },
      "source": [
        "リストの中身にすべて+1をしたいと思ったとき、mapが使えます。"
      ]
    },
    {
      "cell_type": "code",
      "metadata": {
        "id": "kKLdYy49dCNd"
      },
      "source": [
        "map(lambda x: x + 1, a)"
      ],
      "execution_count": null,
      "outputs": []
    },
    {
      "cell_type": "markdown",
      "metadata": {
        "id": "U69xDXW8dLSC"
      },
      "source": [
        "このままだとイテレータという状態なので、中身を見たい場合は、listに変換する必要があります。"
      ]
    },
    {
      "cell_type": "code",
      "metadata": {
        "id": "2YxJUpbMdq5r"
      },
      "source": [
        "list(map(lambda x: x + 1, a))"
      ],
      "execution_count": null,
      "outputs": []
    },
    {
      "cell_type": "markdown",
      "metadata": {
        "id": "Thfcsn0gdyeD"
      },
      "source": [
        "リストの中身で奇数の数字だけ取り出したいと思ったとき、filterが使えます。"
      ]
    },
    {
      "cell_type": "code",
      "metadata": {
        "id": "4HaOFJu1eARX"
      },
      "source": [
        "filter(lambda x: x % 2 != 0, a)"
      ],
      "execution_count": null,
      "outputs": []
    },
    {
      "cell_type": "markdown",
      "metadata": {
        "id": "7bP8SwroeH54"
      },
      "source": [
        "mapと同様に中身を見たい場合は、listに変換する必要があります。"
      ]
    },
    {
      "cell_type": "code",
      "metadata": {
        "id": "DDupI9c0fbOB"
      },
      "source": [
        "list(filter(lambda x: x % 2 != 0, a))"
      ],
      "execution_count": null,
      "outputs": []
    },
    {
      "cell_type": "markdown",
      "metadata": {
        "id": "gEokAZymfi79"
      },
      "source": [
        "reduceについては、各自で調べてみましょう。"
      ]
    },
    {
      "cell_type": "markdown",
      "metadata": {
        "id": "fdcOQHRANl1o"
      },
      "source": [
        "文字列はListのように操作できます。\n",
        "\n",
        "以下に例をあげます。"
      ]
    },
    {
      "cell_type": "code",
      "metadata": {
        "id": "hizEm9QMN01e"
      },
      "source": [
        "print(\"abcde\"[3])\n",
        "print(\"abcde\"[-1])\n",
        "print(\"hogehoge\"[3:5])\n",
        "\n",
        "for i in \"あいうえお\":\n",
        "  print(i)"
      ],
      "execution_count": null,
      "outputs": []
    },
    {
      "cell_type": "markdown",
      "metadata": {
        "id": "vfa_gewywjKN"
      },
      "source": [
        "## 辞書(dictionary)\n",
        "\n",
        "pythonでは辞書と呼ばれるデータ構造で、値と値を対応付けてくれます。\n",
        "\n",
        "例えば、数学が90点、英語が50点だったとしましょう。\n",
        "この情報を保存するには以下のようなコードを書きます。"
      ]
    },
    {
      "cell_type": "code",
      "metadata": {
        "id": "Tp5AOBmatBcc"
      },
      "source": [
        "score = {'数学':90, '英語':50}\n",
        "score"
      ],
      "execution_count": null,
      "outputs": []
    },
    {
      "cell_type": "markdown",
      "metadata": {
        "id": "jNh_bYDfjTLf"
      },
      "source": [
        "辞書では、この、対応付ける値を**key**、対応付けられた値を**value**といいます。"
      ]
    },
    {
      "cell_type": "markdown",
      "metadata": {
        "id": "WJbV7xcTiXZi"
      },
      "source": [
        "keyに対応するvalueを確認したり、valueを更新したりできます。\n"
      ]
    },
    {
      "cell_type": "code",
      "metadata": {
        "id": "zi5Xv3i1iLFr"
      },
      "source": [
        "score['数学']"
      ],
      "execution_count": null,
      "outputs": []
    },
    {
      "cell_type": "code",
      "metadata": {
        "id": "ISXczEOliQ34"
      },
      "source": [
        "score['英語'] = 70\n",
        "score"
      ],
      "execution_count": null,
      "outputs": []
    }
  ]
}