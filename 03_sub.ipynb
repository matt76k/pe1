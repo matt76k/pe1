{
  "nbformat": 4,
  "nbformat_minor": 0,
  "metadata": {
    "colab": {
      "name": "再帰関数副素材",
      "provenance": [],
      "collapsed_sections": []
    },
    "kernelspec": {
      "name": "python3",
      "display_name": "Python 3"
    },
    "language_info": {
      "name": "python"
    }
  },
  "cells": [
    {
      "cell_type": "markdown",
      "metadata": {
        "id": "cuYVUuZtkJEZ"
      },
      "source": [
        "# 再帰関数副教材\n",
        "\n",
        "再帰関数を身につける方法は様々ありますが、ここでは、絵を書くプログラムから再帰関数について学びましょう。\n",
        "\n",
        "まずは必要な関数をインポートします。"
      ]
    },
    {
      "cell_type": "code",
      "metadata": {
        "id": "adRoDJVkgf_l"
      },
      "source": [
        "# turtleを使えるように\n",
        "!pip install ColabTurtle\n",
        "import ColabTurtle.Turtle as turtle"
      ],
      "execution_count": null,
      "outputs": []
    },
    {
      "cell_type": "markdown",
      "metadata": {
        "id": "3yx7ga7theYa"
      },
      "source": [
        "turtleライブラリは、ペンを持ったカメを操作して絵を描けるようになります。\n",
        "\n",
        "まずは、三角形を描いてみます。\n",
        "図形を描くとき、最初にinitializeTurtle()でカメの位置や向きを初期化します。\n",
        "\n",
        "下のプログラムは、ペンを紙に付け、120度右を向き、100進むという操作を3回行って、三角形を描いています。 \n",
        "\n",
        "下のプログラムを変更して、四角形を書いてみましょう。"
      ]
    },
    {
      "cell_type": "code",
      "metadata": {
        "id": "t8hUnBW0gyC1"
      },
      "source": [
        "turtle.initializeTurtle()\n",
        "turtle.pendown()\n",
        "for i in range(3):\n",
        "  turtle.right(120)\n",
        "  turtle.forward(100)"
      ],
      "execution_count": null,
      "outputs": []
    },
    {
      "cell_type": "code",
      "metadata": {
        "id": "_EjC7dV6orG-"
      },
      "source": [
        "# 毎回 turtleと書くのが大変なので、すべてimport\n",
        "from ColabTurtle.Turtle import *"
      ],
      "execution_count": null,
      "outputs": []
    },
    {
      "cell_type": "markdown",
      "metadata": {
        "id": "itTMCEQwlnoH"
      },
      "source": [
        "カメを操作する主なメソッドを以下にあげます。もっと知りたい場合は、[リファレンス](https://docs.python.org/ja/3/library/turtle.html)を参考にしてください。ただし、ColabTrutleにはないメソッドもあります。\n",
        "\n",
        "- forward(d)\n",
        "  - カメが向いている方向にd進む\n",
        "- right(d)\n",
        "  - カメが右にd度回転\n",
        "- left(d)\n",
        "  - カメが左にd度回転\n",
        "- goto(x, y)\n",
        "  - カメが座標(x, y)へ移動\n",
        "- pendown()\n",
        "  - ペンを紙につける\n",
        "- penup()\n",
        "  - ペンを紙から話す\n",
        "- pendcolor(c)\n",
        "  - ペンの色をcにする。cは\"blue\"など。詳しくはリファレンスを参照。\n",
        "- pensize(d)\n",
        "  - ペンのサイズをdにします。"
      ]
    },
    {
      "cell_type": "markdown",
      "metadata": {
        "id": "49lLH0n5qNkk"
      },
      "source": [
        "writeを使うと文字を書くこともできます。"
      ]
    },
    {
      "cell_type": "code",
      "metadata": {
        "id": "az-8_pDRn3kX"
      },
      "source": [
        "initializeTurtle()\n",
        "\n",
        "penup()\n",
        "pencolor(\"#65baea\")\n",
        "\n",
        "goto(100, 100)\n",
        "\n",
        "for i, s in enumerate(list(\"兎田ぺこら\")):\n",
        "  write(s, font=(40, \"Arial\", \"normal\"))\n",
        "  goto(100 + 40 * (i + 1), 100)\n",
        "\n",
        "ht()"
      ],
      "execution_count": null,
      "outputs": []
    },
    {
      "cell_type": "markdown",
      "metadata": {
        "id": "ulWPMjgb3vjY"
      },
      "source": [
        "三角形の中に三角形を描くプログラムを描いてみます。"
      ]
    },
    {
      "cell_type": "code",
      "metadata": {
        "id": "P9o7uvt5r2XK"
      },
      "source": [
        "initializeTurtle()\n",
        "\n",
        "def triangle(d):\n",
        "  for _ in range(3):\n",
        "    right(120)\n",
        "    forward(d)\n",
        "\n",
        "penup()\n",
        "goto(100, 100)\n",
        "pendown()\n",
        "\n",
        "pensize(1)\n",
        "#speed(13) #最高速度\n",
        "\n",
        "length = 200\n",
        "\n",
        "triangle(length)\n",
        "\n",
        "for _ in range(3):\n",
        "  right(120)\n",
        "  length = length / 2\n",
        "  forward(length)\n",
        "  left(60)\n",
        "  triangle(length)\n",
        "\n",
        "ht()"
      ],
      "execution_count": null,
      "outputs": []
    },
    {
      "cell_type": "markdown",
      "metadata": {
        "id": "3JMKUAF933ZW"
      },
      "source": [
        "上のコードを再帰関数を使って描くと以下のようになります。"
      ]
    },
    {
      "cell_type": "code",
      "metadata": {
        "id": "eq9Z8Vab2mAB"
      },
      "source": [
        "initializeTurtle()\n",
        "\n",
        "def triangle(d):\n",
        "  for _ in range(3):\n",
        "    right(120)\n",
        "    forward(d)\n",
        "\n",
        "def triangle_recursive(d, n):\n",
        "  if n == 0:\n",
        "    return\n",
        "  else:\n",
        "    triangle(d)\n",
        "    right(120)\n",
        "    forward(d/2)\n",
        "    left(60)\n",
        "    triangle_recursive(d/2, n -1)\n",
        "    \n",
        "penup()\n",
        "goto(100, 100)\n",
        "pendown()\n",
        "\n",
        "pensize(1)\n",
        "speed(13) #最高速度\n",
        "\n",
        "triangle_recursive(300, 5)\n",
        "\n",
        "ht()"
      ],
      "execution_count": null,
      "outputs": []
    },
    {
      "cell_type": "markdown",
      "metadata": {
        "id": "65dwPUl64Apa"
      },
      "source": [
        "興味のある方は、コッホ曲線などのフラクタル図形を描くプログラムを作成してみましょう。再帰関数に慣れていくと思います。"
      ]
    }
  ]
}