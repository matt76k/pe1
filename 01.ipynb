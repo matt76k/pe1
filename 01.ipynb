{
  "nbformat": 4,
  "nbformat_minor": 0,
  "metadata": {
    "colab": {
      "name": "演習1",
      "provenance": [],
      "collapsed_sections": [],
      "toc_visible": true
    },
    "kernelspec": {
      "name": "python3",
      "display_name": "Python 3"
    }
  },
  "cells": [
    {
      "cell_type": "markdown",
      "metadata": {
        "id": "IyiUkGWhFWJS"
      },
      "source": [
        "# プログラミングの基本の基本\n",
        "\n",
        "本日学ぶプログラミングの項目は\n",
        "\n",
        "- 変数\n",
        "- 逐次\n",
        "- 分岐\n",
        "- 反復\n",
        "\n",
        "の4つになります。"
      ]
    },
    {
      "cell_type": "markdown",
      "metadata": {
        "id": "i7shtTv2qgp3"
      },
      "source": [
        "## 実行方法\n",
        "\n",
        "プログラミングは、コードを書き、実行するという手順が必要になります。\n",
        "\n",
        "まずは、プログラムを実行する方法について学びましょう。\n",
        "\n",
        "`1 + 1`を実行してみます。\n",
        "\n",
        "プログラムを実行する場合は、左横の再生ボタンを押すと、プログラムの実行結果が表示されます。"
      ]
    },
    {
      "cell_type": "code",
      "metadata": {
        "id": "--vRvI7e5bNa"
      },
      "source": [
        "1 + 1"
      ],
      "execution_count": null,
      "outputs": []
    },
    {
      "cell_type": "markdown",
      "metadata": {
        "id": "_fnWsSbWGitu"
      },
      "source": [
        "2という数字が表示されたと思います。"
      ]
    },
    {
      "cell_type": "markdown",
      "metadata": {
        "id": "LkLwemUgrs0n"
      },
      "source": [
        "**演習**\n",
        "\n",
        "数字を変えたり、演算を変えたりして、実行してみましょう。"
      ]
    },
    {
      "cell_type": "markdown",
      "metadata": {
        "id": "-Fr1h2MQr_UH"
      },
      "source": [
        "**Note**\n",
        "\n",
        "割り算を行うと、出力される結果の値が整数以外になることがあります。\n",
        "\n",
        "整数の商を表示したい場合は、/ではなく、`//`を使います。"
      ]
    },
    {
      "cell_type": "markdown",
      "metadata": {
        "id": "JGmgz0o0HEAN"
      },
      "source": [
        "最後の割り算では、値が整数の以外になるため、小数で表示されています。\n",
        "\n",
        "整数の商を表示したい場合は、`/`ではなく、'//'を使い、余りは`%`を使います。"
      ]
    },
    {
      "cell_type": "code",
      "metadata": {
        "id": "EZE2wjX8HjUO"
      },
      "source": [
        "7 // 3"
      ],
      "execution_count": null,
      "outputs": []
    },
    {
      "cell_type": "code",
      "metadata": {
        "id": "-n9s47YvxNBK"
      },
      "source": [
        "7 % 4"
      ],
      "execution_count": null,
      "outputs": []
    },
    {
      "cell_type": "markdown",
      "metadata": {
        "id": "zJjR4YlJISQw"
      },
      "source": [
        "## 変数\n",
        "\n",
        "**変数**は値についた名前で、**名札**のようなものだと思ってください。\n",
        "\n",
        "「名前の付いた名札から矢印が値に向いている」とイメージすると良いでしょう。\n",
        "\n"
      ]
    },
    {
      "cell_type": "markdown",
      "metadata": {
        "id": "0sgnz6r5s5He"
      },
      "source": [
        "それでは，1という値に`a`という名前を付けてあげましょう。\n",
        "\n",
        "このことを**代入**といいます。\n",
        "\n",
        "「変数aに1を代入する」というような言い方をします。"
      ]
    },
    {
      "cell_type": "code",
      "metadata": {
        "id": "ztQbh0RlI7sV"
      },
      "source": [
        "a = 1"
      ],
      "execution_count": null,
      "outputs": []
    },
    {
      "cell_type": "markdown",
      "metadata": {
        "id": "wL0b6ZnTtr3f"
      },
      "source": [
        "上のプログラムを実行しても、何も表示されませんでした。\n",
        "\n",
        "代入は表示されませんので、変数の値を確認するには、printを使うと良いでしょう。"
      ]
    },
    {
      "cell_type": "code",
      "metadata": {
        "id": "X7LRYTieuBpp"
      },
      "source": [
        "print(a)"
      ],
      "execution_count": null,
      "outputs": []
    },
    {
      "cell_type": "markdown",
      "metadata": {
        "id": "3dmSg3TRKBF8"
      },
      "source": [
        "pythonには値の種類がたくさんありますが、ここではまず文字列について説明します。\n",
        "\n",
        "文字列とは、文字通り、文字の列です。次のコードを実行してみましょう。"
      ]
    },
    {
      "cell_type": "code",
      "metadata": {
        "id": "kiwFsnxaKZ8J"
      },
      "source": [
        "print('ぴえん🥺')"
      ],
      "execution_count": null,
      "outputs": []
    },
    {
      "cell_type": "markdown",
      "metadata": {
        "id": "PaWOEeFLKd1k"
      },
      "source": [
        "このように`\"`で囲んだ部分が文字列になります。\n"
      ]
    },
    {
      "cell_type": "markdown",
      "metadata": {
        "id": "AadMkZbou0bX"
      },
      "source": [
        "**演習**\n",
        "\n",
        "文字列も値なので、名前をつけれます。\n",
        "\n",
        "素敵な名前をつけて、表示してみましょう。"
      ]
    },
    {
      "cell_type": "code",
      "metadata": {
        "id": "AOrxdo3iKt0i"
      },
      "source": [
        "paon = \"ぱおん🐘\"\n",
        "print(paon)"
      ],
      "execution_count": null,
      "outputs": []
    },
    {
      "cell_type": "markdown",
      "metadata": {
        "id": "blKe5psVK577"
      },
      "source": [
        "**Note**\n",
        "\n",
        "変数に**適切な**名前をつけることは、**重要**です。"
      ]
    },
    {
      "cell_type": "markdown",
      "metadata": {
        "id": "zZN2l-z8276A"
      },
      "source": [
        "printは文字列を表示してくれますが、2行に渡って表示したい場合、printを2回使うのではなく、1回で表示する方法があります。"
      ]
    },
    {
      "cell_type": "code",
      "metadata": {
        "id": "QJ5pMIuG3Y2i"
      },
      "source": [
        "print(\"ぴえん🥺こえて\\nぱおん🐘\")"
      ],
      "execution_count": null,
      "outputs": []
    },
    {
      "cell_type": "markdown",
      "metadata": {
        "id": "qv5oJyHM3mtn"
      },
      "source": [
        "`\\n`は改行コードといって、明示的に改行します。\n",
        "\n",
        "printは文字列の最後に自動的に改行してくれています。"
      ]
    },
    {
      "cell_type": "markdown",
      "metadata": {
        "id": "yVdqFQG2Hxoq"
      },
      "source": [
        "## 逐次\n",
        "\n",
        "プログラミングは基本的に上から下に実行されます。\n",
        "\n",
        "これを**逐次**といいます。"
      ]
    },
    {
      "cell_type": "code",
      "metadata": {
        "id": "i2tJu5XCHvnl"
      },
      "source": [
        "print(1)\n",
        "print(2)\n",
        "print(3)"
      ],
      "execution_count": null,
      "outputs": []
    },
    {
      "cell_type": "markdown",
      "metadata": {
        "id": "lM9Ys0lOIAPg"
      },
      "source": [
        "1、2、3と上から表示されるのが確認できましたか？\n",
        "\n",
        "**順番を変えて実行してみましょう！**"
      ]
    },
    {
      "cell_type": "markdown",
      "metadata": {
        "id": "XLRNrFaFLIkH"
      },
      "source": [
        "## 分岐\n",
        "\n",
        "条件によって処理を変えることを分岐といいます。\n",
        "\n",
        "ゲーム例えるなら、あるアイテムを確保していないと、次のステージにいけないといった感じです。\n",
        "\n",
        "次のコードはnが偶数と奇数で表示される文字が変わるようになっています。\n",
        "\n",
        "実行してみましょう。"
      ]
    },
    {
      "cell_type": "code",
      "metadata": {
        "id": "Gd6FDR-CL30p"
      },
      "source": [
        "n = 2\n",
        "\n",
        "if n % 2 == 0:\n",
        "  print(\"偶数です\")\n",
        "  print(\"草\")\n",
        "else:\n",
        "  print(\"奇数です\")\n",
        "  print(\"森\")"
      ],
      "execution_count": null,
      "outputs": []
    },
    {
      "cell_type": "markdown",
      "metadata": {
        "id": "-ubzR7nYM-ID"
      },
      "source": [
        "**演習**\n",
        "\n",
        "nの値を変えて実行してみましょう。"
      ]
    },
    {
      "cell_type": "markdown",
      "metadata": {
        "id": "OZAJhc77NGc4"
      },
      "source": [
        "pythonではインデント（ここではprintの前のスペース）が重要な意味を持ちます。\n",
        "\n",
        "インデントが同じ部分が、１つの塊として扱われるのです。\n",
        "\n",
        "そのため、ここでは、インデントが同じな2つのprintが実行されます。"
      ]
    },
    {
      "cell_type": "markdown",
      "metadata": {
        "id": "kWU9-S_mO4Z-"
      },
      "source": [
        "`if`のあとにある`==`は比較演算子といって、2つの値を比較します。\n",
        "\n",
        "| 演算 | 記号 |\n",
        "|------|------|\n",
        "| 小なり | `<` |\n",
        "| 大なり | `>` |\n",
        "| 以下 | `<=` |\n",
        "| 以上 | `>=` |\n",
        "| 等しい | `==` |\n",
        "| 等しくない | `!=` |\n",
        "\n",
        "このぐらい覚えておけば大丈夫でしょう。\n",
        "\n",
        "比較演算子は、その両側に与えられた値が決められた条件を満たしているかどうか計算し、満たしている場合は `True` を，満たしていない場合は `False` になります。\n",
        "\n",
        "`True`や`False`は、**ブール型**と呼ばれる型を持った値になります。"
      ]
    },
    {
      "cell_type": "markdown",
      "metadata": {
        "id": "vpDgTwAgN360"
      },
      "source": [
        "偶数でも42のときだけ特別に処理したいとします。\n",
        "\n",
        "その場合は、以下のようなコードになります。\n",
        "\n",
        "[出典](https://ja.wikipedia.org/wiki/%E7%94%9F%E5%91%BD%E3%80%81%E5%AE%87%E5%AE%99%E3%80%81%E3%81%9D%E3%81%97%E3%81%A6%E4%B8%87%E7%89%A9%E3%81%AB%E3%81%A4%E3%81%84%E3%81%A6%E3%81%AE%E7%A9%B6%E6%A5%B5%E3%81%AE%E7%96%91%E5%95%8F%E3%81%AE%E7%AD%94%E3%81%88)"
      ]
    },
    {
      "cell_type": "code",
      "metadata": {
        "id": "mTsQ7LSXOGOj"
      },
      "source": [
        "n = 42\n",
        "\n",
        "if n % 2 == 0:\n",
        "  if n == 42:\n",
        "    print(\"生命、宇宙、そして万物についての究極の疑問の答え\")\n",
        "  else:\n",
        "    print(\"偶数です\")\n",
        "    print(\"竹\")\n",
        "else:\n",
        "  print(\"奇数です\")\n",
        "  print(\"ジャングル\")"
      ],
      "execution_count": null,
      "outputs": []
    },
    {
      "cell_type": "markdown",
      "metadata": {
        "id": "BVpFKj5ZPiFy"
      },
      "source": [
        "このようにifは入れ子にできます。\n",
        "\n",
        "ただし、入れ子が多すぎるとプログラムがわかりにくくなります。\n",
        "\n",
        "今回の場合は、以下のように書くと同じ動作をして入れ子が少なくなります。"
      ]
    },
    {
      "cell_type": "code",
      "metadata": {
        "id": "P50ETfsmP0RJ"
      },
      "source": [
        "n = 9\n",
        "\n",
        "if n == 42:\n",
        "  print(\"生命、宇宙、そして万物についての究極の疑問の答え\")\n",
        "elif n % 2 == 0: \n",
        "  print(\"偶数です\")\n",
        "  print(\"竹\")\n",
        "else:\n",
        "  print(\"奇数です\")\n",
        "  print(\"ジャングル\")"
      ],
      "execution_count": null,
      "outputs": []
    },
    {
      "cell_type": "markdown",
      "metadata": {
        "id": "BUFbk5ZsQKXX"
      },
      "source": [
        "## 反復\n",
        "\n",
        "同じことを何度も繰り返すのは骨が折れる作業です。\n",
        "\n",
        "ただ、プログラミングを使えば、簡単になります。\n",
        "\n",
        "ここでは、反復（繰り返し）の方法\n",
        "\n",
        "* for\n",
        "* while\n",
        "\n",
        "について学びます。\n"
      ]
    },
    {
      "cell_type": "markdown",
      "metadata": {
        "id": "iUalwblxQ8k0"
      },
      "source": [
        "例として、0から4の数字を表示してみましょう。"
      ]
    },
    {
      "cell_type": "code",
      "metadata": {
        "id": "U7bvuvGmRBXP"
      },
      "source": [
        "for i in range(5):\n",
        "  print(i)"
      ],
      "execution_count": null,
      "outputs": []
    },
    {
      "cell_type": "markdown",
      "metadata": {
        "id": "H5zO1_7ZRL0Z"
      },
      "source": [
        "rangeをつかって0から数字を作り、変数iがその数字を指します。\n",
        "\n",
        "5よりも小さい値、つまり4まで数字を作ったら、そこで終了となります。\n",
        "\n"
      ]
    },
    {
      "cell_type": "markdown",
      "metadata": {
        "id": "w68FFBmSzB-k"
      },
      "source": [
        "**演習**\n",
        "\n",
        "5以外の数字にして試してみましょう。"
      ]
    },
    {
      "cell_type": "markdown",
      "metadata": {
        "id": "iGnRKE_KR0C7"
      },
      "source": [
        "whileはある条件が成り立っている限り、繰り返しをします。\n",
        "\n",
        "さきほどのforの例と同じことをするコードを以下に示します。"
      ]
    },
    {
      "cell_type": "code",
      "metadata": {
        "id": "L83y-7K6SNgW"
      },
      "source": [
        "i = 0\n",
        "\n",
        "while i < 5:\n",
        "  print(i)\n",
        "  i = i + 1"
      ],
      "execution_count": null,
      "outputs": []
    },
    {
      "cell_type": "markdown",
      "metadata": {
        "id": "KMl4p-s2SUnP"
      },
      "source": [
        "`i < 5`の条件が成り立っている限り、printが実行されてますね。"
      ]
    },
    {
      "cell_type": "code",
      "metadata": {
        "id": "Z6vs_XjeSkzT"
      },
      "source": [
        "print(\"∧___∧\")\n",
        "print(\"|・ㅅ・| < ﾆｬｰ\")\n",
        "print(\"|Ｕ　Ｕ|\")\n",
        "for i in range(5):\n",
        "  print(\"|　　　|\")\n",
        "print(\"U￣￣￣U\")"
      ],
      "execution_count": null,
      "outputs": []
    },
    {
      "cell_type": "markdown",
      "metadata": {
        "id": "tYO7KVkSS9mg"
      },
      "source": [
        "繰り返しを使うとこのようなプログラムを書くことが容易になります。"
      ]
    },
    {
      "cell_type": "markdown",
      "metadata": {
        "id": "MxbbzPuNVDqT"
      },
      "source": [
        "## List\n",
        "\n",
        "いままで、整数、文字列、ブールと、pythonにある値について学びました。\n",
        "\n",
        "ここでは、値を複数格納するデータ型のひとつである`List`について学びます。\n",
        "\n",
        "文字列は`\"`で文字を囲みました。\n",
        "\n",
        "同じようにListでは`[`と`]`で値を囲みます。"
      ]
    },
    {
      "cell_type": "code",
      "metadata": {
        "id": "AIzXvjh6Vvty"
      },
      "source": [
        "a = [1,2,3,4]\n",
        "print(a)\n",
        "print(a[0])"
      ],
      "execution_count": null,
      "outputs": []
    },
    {
      "cell_type": "markdown",
      "metadata": {
        "id": "XESBdslvV6UH"
      },
      "source": [
        "Listは値の列になっています。\n",
        "\n",
        "`a[0]`はlistの最初の値を示しています。このように指定する場所のことを`index`といいます。\n",
        "\n",
        "**index**は**0**からはじまっています。**1**からでないことを注意しましょう。"
      ]
    },
    {
      "cell_type": "markdown",
      "metadata": {
        "id": "M4QXSD310A-Z"
      },
      "source": [
        "**演習**\n",
        "\n",
        "0以外も試してみましょう。"
      ]
    },
    {
      "cell_type": "markdown",
      "metadata": {
        "id": "b39WERKJWviA"
      },
      "source": [
        "Listに対して、forが使えます。"
      ]
    },
    {
      "cell_type": "code",
      "metadata": {
        "id": "vBo6NFXuW0wV"
      },
      "source": [
        "a = [1,2,3,4]\n",
        "for i in a:\n",
        "  print(i)"
      ],
      "execution_count": null,
      "outputs": []
    },
    {
      "cell_type": "markdown",
      "metadata": {
        "id": "Q_UYQjnNW6vB"
      },
      "source": [
        "listを利用して、別のListを作れます。"
      ]
    },
    {
      "cell_type": "code",
      "metadata": {
        "id": "qX7OA9ESW_UW"
      },
      "source": [
        "a = [1,2,3,4]\n",
        "b = []\n",
        "\n",
        "for i in a:\n",
        "  b.append(i * 2)\n",
        "\n",
        "print(b)"
      ],
      "execution_count": null,
      "outputs": []
    },
    {
      "cell_type": "markdown",
      "metadata": {
        "id": "oykax40FXJU6"
      },
      "source": [
        "aのlistの値を2倍した値を持つlistであるbを作っています。\n",
        "\n",
        "`b = []`は、値を持たないlist(空list)を作り、appendを使って、値をうしろに追加しています。\n",
        "\n",
        "**listには様々な操作がありますので、興味ある人は調べてみると良いでしょう。**"
      ]
    }
  ]
}